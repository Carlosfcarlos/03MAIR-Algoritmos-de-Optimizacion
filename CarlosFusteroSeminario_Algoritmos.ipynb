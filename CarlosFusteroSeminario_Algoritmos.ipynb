{
  "nbformat": 4,
  "nbformat_minor": 0,
  "metadata": {
    "colab": {
      "name": "CarlosFusteroSeminario - Algoritmos.ipynb",
      "provenance": [],
      "collapsed_sections": [],
      "include_colab_link": true
    },
    "kernelspec": {
      "name": "python3",
      "display_name": "Python 3"
    }
  },
  "cells": [
    {
      "cell_type": "markdown",
      "metadata": {
        "id": "view-in-github",
        "colab_type": "text"
      },
      "source": [
        "<a href=\"https://colab.research.google.com/github/Carlosfcarlos/03MAIR-Algoritmos-de-Optimizacion/blob/main/CarlosFusteroSeminario_Algoritmos.ipynb\" target=\"_parent\"><img src=\"https://colab.research.google.com/assets/colab-badge.svg\" alt=\"Open In Colab\"/></a>"
      ]
    },
    {
      "cell_type": "markdown",
      "metadata": {
        "id": "hVbXYX-RfPWh"
      },
      "source": [
        "# Algoritmos de optimización - Seminario<br>\n",
        "Nombre y Apellidos:   <br>\n",
        "Url: https://github.com/.../03MAIR---Algoritmos-de-Optimizacion---2019/tree/master/SEMINARIO<br>\n",
        "Problema:\n",
        "> 1. Sesiones de doblaje <br>\n",
        ">2. Organizar los horarios de partidos de La Liga<br>\n",
        ">3. Combinar cifras y operaciones\n",
        "\n",
        "### Descripción del problema:(copiar enunciado)\n",
        "\n",
        "> **3. Combinar cifras y operaciones <br>**\n",
        "\n",
        "Disponemos de las 9 cifras del 1 al 9 (excluimos el cero) y de los 4 signos básicos de las operaciones fundamentales: suma(+), resta(-), multiplicación(*) y división(/)<br>\n",
        "Debemos combinarlos alternativamente sin repetir ninguno de ellos para obtener una cantidad dada. Un ejemplo sería para obtener el 4:<br>\n",
        "\n",
        "4+2-6/3*1 = 4\n",
        "\n",
        "(*) La respuesta es obligatoria\n",
        "\n",
        "\n",
        "\n",
        "\n",
        "\n",
        "                                        "
      ]
    },
    {
      "cell_type": "code",
      "metadata": {
        "id": "AiskKkzZfy4e"
      },
      "source": [
        ""
      ],
      "execution_count": 33,
      "outputs": []
    },
    {
      "cell_type": "markdown",
      "metadata": {
        "id": "3_-exlrTgLd-"
      },
      "source": [
        "### ¿Cuantas posibilidades hay sin tener en cuenta las restricciones? (*)<br>\n",
        "\n",
        "### ¿Cuantas posibilidades hay teniendo en cuenta todas las restricciones.\n",
        "\n",
        "\n"
      ]
    },
    {
      "cell_type": "markdown",
      "metadata": {
        "id": "WfCUqJyKhPcw"
      },
      "source": [
        "***Respuesta:</br>***\r\n",
        "\r\n",
        "**Sin restricciones </br>**\r\n",
        "Si no se tienen en cuenta las restricciones, es una variación sin repeticion de 5 numeros sobre 9 opciones (para cada una de estas elecciones tenemos 9 opciones). Ademas, tenemos una que elección con repetición de 4 signos (sobre 4 opciones).</br></br>\r\n",
        " Nº opciones en cifras : $\\ 9^{5} = 59.049 $ </br>\r\n",
        " Nº opciones en signos : $\\ 4^{4} = 256 $ </br>\r\n",
        " Nº soluciones : $\\ 9^{5} * 4^{4} = 15.116.544 $ </br></br>\r\n",
        "**Con restricciones </br>**\r\n",
        "Las cifras y signos no pueden repetirse. De esta namera con cada elección se reduce el numero de opciones.</br></br>\r\n",
        " Nº opciones en cifras : $\\ \\frac{9!}{4!} = 15.120 $ </br>\r\n",
        " Nº opciones en signos : $\\ 4! = 24 $ </br> \r\n",
        " Nº soluciones : $\\ \\frac{9!}{4!} * 4!= 362.880 $"
      ]
    },
    {
      "cell_type": "code",
      "metadata": {
        "id": "fxJvKDw8cQn-"
      },
      "source": [
        ""
      ],
      "execution_count": 33,
      "outputs": []
    },
    {
      "cell_type": "markdown",
      "metadata": {
        "id": "dzynfVJahHoY"
      },
      "source": [
        "### Modelo para el espacio de soluciones<br>\n",
        " ¿Cual es la estructura de datos que mejor se adapta al problema? Argumentalo.(Es posible que hayas elegido una al principio y veas la necesidad de cambiar, arguentalo) (*) \n"
      ]
    },
    {
      "cell_type": "markdown",
      "metadata": {
        "id": "xFIJrOwKi2Ti"
      },
      "source": [
        "***Respuesta </br>***\r\n",
        "Como modelo de solución utilizo dos listas, una para las cifras y otra para la solución."
      ]
    },
    {
      "cell_type": "code",
      "metadata": {
        "id": "38c-7-ejhJmA"
      },
      "source": [
        "sol_cifras = [1.,2.,3.,4.,5.]\r\n",
        "sol_signos = ['/','*','+','-']"
      ],
      "execution_count": 34,
      "outputs": []
    },
    {
      "cell_type": "markdown",
      "metadata": {
        "id": "7Z9U2W7bi-XS"
      },
      "source": [
        "## Según el modelo para el espacio de soluciones<br>\n",
        "(*)¿Cual es la función objetivo?\n",
        "\n",
        "(*)¿Es un problema de maximización o minimización?"
      ]
    },
    {
      "cell_type": "markdown",
      "metadata": {
        "id": "hBalWLM7j1_d"
      },
      "source": [
        "***Respuesta***"
      ]
    },
    {
      "cell_type": "code",
      "metadata": {
        "id": "pDA-rg3Gj5Lz",
        "colab": {
          "base_uri": "https://localhost:8080/"
        },
        "outputId": "0481809d-5705-40c0-d74f-60944814ac30"
      },
      "source": [
        "def funcerror(target,number,sign):\r\n",
        "  cifras = number.copy()\r\n",
        "  signos = sign.copy()\r\n",
        "  operaciones={'+': lambda x,y: x+y,\r\n",
        "               '-': lambda x,y: x-y,\r\n",
        "               '*': lambda x,y: x*y,\r\n",
        "               '/': lambda x,y: x/y}\r\n",
        "\r\n",
        "  if '/' in signos:\r\n",
        "    index = signos.index('/')\r\n",
        "    cifras[index]= operaciones['/'](cifras[index],cifras[index+1])\r\n",
        "    cifras.pop(index+1)\r\n",
        "    signos.remove('/')\r\n",
        "    error = funcerror(target,cifras,signos)\r\n",
        "\r\n",
        "  elif '*' in signos:\r\n",
        "    index = signos.index('*')\r\n",
        "    cifras[index]= operaciones['*'](cifras[index],cifras[index+1])\r\n",
        "    cifras.pop(index+1)\r\n",
        "    signos.remove('*')\r\n",
        "    error = funcerror(target,cifras,signos)\r\n",
        "\r\n",
        "  else:\r\n",
        "    error = 0\r\n",
        "    for i in signos:\r\n",
        "      cifras[0] = operaciones[i](cifras[0],cifras[1])\r\n",
        "      cifras.pop(1)\r\n",
        "    error = abs(target - cifras[0])\r\n",
        "    #print('Resultado',cifras[0])\r\n",
        "  return error\r\n",
        "\r\n",
        "sol_cifras = [9., 8., 7., 1., 6.]\r\n",
        "sol_signos = ['*','+','-','/']\r\n",
        "funcerror(80,sol_cifras,sol_signos)\r\n"
      ],
      "execution_count": 35,
      "outputs": [
        {
          "output_type": "execute_result",
          "data": {
            "text/plain": [
              "1.1666666666666714"
            ]
          },
          "metadata": {
            "tags": []
          },
          "execution_count": 35
        }
      ]
    },
    {
      "cell_type": "markdown",
      "metadata": {
        "id": "rlnTYgY1j6I2"
      },
      "source": [
        "### Diseña un algoritmo para resolver el problema por fuerza bruta"
      ]
    },
    {
      "cell_type": "markdown",
      "metadata": {
        "id": "70rDgxYXkC8r"
      },
      "source": [
        "***Respuesta***"
      ]
    },
    {
      "cell_type": "code",
      "metadata": {
        "id": "CJb5sQ0qkENy",
        "colab": {
          "base_uri": "https://localhost:8080/"
        },
        "outputId": "05ff9a3a-377c-4ebe-e3a4-4a40aed5a839"
      },
      "source": [
        "def fuerzabruta(objetivo):\r\n",
        "  best_sol_err = 10e10\r\n",
        "  best_num = [0,0,0,0]\r\n",
        "  best_op = []\r\n",
        "  num_pos = {x for x in range(1,10)}\r\n",
        "  op_pos = {'/','*','+','-'}\r\n",
        "  for a in num_pos:\r\n",
        "    for b in list(num_pos-{a}):\r\n",
        "      for c in list(num_pos-{a,b}):\r\n",
        "        for d in list(num_pos-{a,b,c}):\r\n",
        "          for e in list(num_pos-{a,b,c,d}):\r\n",
        "            sol_numeros = [a,b,c,d,e]\r\n",
        "            for i in op_pos:\r\n",
        "              for j in list(op_pos-{i}):\r\n",
        "                for k in list(op_pos-{i,j}):\r\n",
        "                  for l in list(op_pos-{i,j,k}):\r\n",
        "                    sol_operaciones = [i,j,k,l]\r\n",
        "                    if funcerror(objetivo,sol_numeros,sol_operaciones) < best_sol_err:\r\n",
        "                      best_num = sol_numeros\r\n",
        "                      best_op = sol_operaciones\r\n",
        "                      best_sol_err = funcerror(objetivo,sol_numeros,sol_operaciones)\r\n",
        "                      if best_sol_err == 0:\r\n",
        "                        return (best_num,best_op,best_sol_err)\r\n",
        "\r\n",
        "  return (best_num,best_op,best_sol_err)\r\n",
        "\r\n",
        "print('La solucion para el numero 72 es',fuerzabruta(72))\r\n",
        "record=[]\r\n",
        "for i in range(-69,77):\r\n",
        "  num, op, sol_err = fuerzabruta(i)\r\n",
        "  if sol_err > 0:\r\n",
        "    record.append(i)\r\n",
        "print('Los numeros entre -69 y 77 que no puedo calcular son',record) #Luego se entiende porque elijo estos limites"
      ],
      "execution_count": 36,
      "outputs": [
        {
          "output_type": "stream",
          "text": [
            "La solucion para el numero 72 es ([2, 6, 3, 8, 9], ['-', '/', '+', '*'], 0.0)\n",
            "Los numeros entre -69 y 77 que no puedo calcular son []\n"
          ],
          "name": "stdout"
        }
      ]
    },
    {
      "cell_type": "markdown",
      "metadata": {
        "id": "tgrnsC2nkFa8"
      },
      "source": [
        "### Calcula la complejidad del algoritmo por fuerza bruta"
      ]
    },
    {
      "cell_type": "markdown",
      "metadata": {
        "id": "9eUd3xwckP68"
      },
      "source": [
        "***Respuesta***</br>\r\n",
        "Tal y como esta planteado el problema, siempre tiene la misma complejidad (la calculamos en el numero de soluciones con restricciones). Asumamos que el numero de operaciones y cifras puede variar, para obtener de esta manera una complejidad que depende del tamaño de la solución. El numero máximo de operaciones es 4 ya que solo hay 4 operaciones posibles.</br></br>\r\n",
        "\r\n",
        " Nº operaciones = n </br>\r\n",
        " Nº cifras = n +1 </br>\r\n",
        " Complejidad = $\\ \\frac{9!}{(9 - n - 1)!} * \\frac{4!}{(4-n)!}   $</br>\r\n",
        " Complejidad : $\\ O((n!)^2)$</br>\r\n",
        "\r\n",
        " Tenemos una complejidad factorial al cuadrado."
      ]
    },
    {
      "cell_type": "code",
      "metadata": {
        "id": "rvZWwL-ckRST"
      },
      "source": [
        ""
      ],
      "execution_count": 36,
      "outputs": []
    },
    {
      "cell_type": "markdown",
      "metadata": {
        "id": "LODKulcjlnCV"
      },
      "source": [
        "### Calcular máximo y mínimo entero conseguible"
      ]
    },
    {
      "cell_type": "code",
      "metadata": {
        "colab": {
          "base_uri": "https://localhost:8080/"
        },
        "id": "xSjGM7T1n989",
        "outputId": "31058843-a437-4cd1-9794-1aeda94ba488"
      },
      "source": [
        "def funcresult(number,sign):\r\n",
        "  cifras = number.copy()\r\n",
        "  signos = sign.copy()\r\n",
        "  operaciones={'+': lambda x,y: x+y,\r\n",
        "               '-': lambda x,y: x-y,\r\n",
        "               '*': lambda x,y: x*y,\r\n",
        "               '/': lambda x,y: x/y}\r\n",
        "\r\n",
        "  if '/' in signos:\r\n",
        "    index = signos.index('/')\r\n",
        "    cifras[index]= operaciones['/'](cifras[index],cifras[index+1])\r\n",
        "    cifras.pop(index+1)\r\n",
        "    signos.remove('/')\r\n",
        "    resultado = funcresult(cifras,signos)\r\n",
        "\r\n",
        "  elif '*' in signos:\r\n",
        "    index = signos.index('*')\r\n",
        "    cifras[index]= operaciones['*'](cifras[index],cifras[index+1])\r\n",
        "    cifras.pop(index+1)\r\n",
        "    signos.remove('*')\r\n",
        "    resultado = funcresult(cifras,signos)\r\n",
        "\r\n",
        "  else:\r\n",
        "    resultado = 0\r\n",
        "    for i in signos:\r\n",
        "      cifras[0] = operaciones[i](cifras[0],cifras[1])\r\n",
        "      cifras.pop(1)\r\n",
        "    resultado = cifras[0]\r\n",
        "  return resultado\r\n",
        "\r\n",
        "def fuerzabrutaMAXMIN():\r\n",
        "  max_int = 0\r\n",
        "  min_int = 10\r\n",
        "  num_pos = {x for x in range(1,10)}\r\n",
        "  op_pos = {'/','*','+','-'}\r\n",
        "  for a in num_pos:\r\n",
        "    for b in list(num_pos-{a}):\r\n",
        "      for c in list(num_pos-{a,b}):\r\n",
        "        for d in list(num_pos-{a,b,c}):\r\n",
        "          for e in list(num_pos-{a,b,c,d}):\r\n",
        "            sol_numeros = [a,b,c,d,e]\r\n",
        "            for i in op_pos:\r\n",
        "              for j in list(op_pos-{i}):\r\n",
        "                for k in list(op_pos-{i,j}):\r\n",
        "                  for l in list(op_pos-{i,j,k}):\r\n",
        "                    sol_operaciones = [i,j,k,l]\r\n",
        "                    current_result = funcresult(sol_numeros,sol_operaciones)\r\n",
        "                    if current_result > max_int and current_result%1 == 0:\r\n",
        "                      max_int = current_result\r\n",
        "                    elif current_result < min_int and current_result%1 == 0:\r\n",
        "                      min_int = current_result\r\n",
        "  return (min_int,max_int)\r\n",
        "\r\n",
        "print('El minimo y el máximo valor entero conseguible es: ',fuerzabrutaMAXMIN())"
      ],
      "execution_count": 37,
      "outputs": [
        {
          "output_type": "stream",
          "text": [
            "El minimo y el máximo valor entero conseguible es:  (-69.0, 77.0)\n"
          ],
          "name": "stdout"
        }
      ]
    },
    {
      "cell_type": "markdown",
      "metadata": {
        "id": "txbrmLmskReM"
      },
      "source": [
        "(*)Diseña un algoritmo que mejore la complejidad del algortimo por fuerza bruta. Argumenta porque crees que mejora el algoritmo por fuerza bruta"
      ]
    },
    {
      "cell_type": "markdown",
      "metadata": {
        "id": "hLrVwt5QkZPD"
      },
      "source": [
        "***Respuesta*** </br>\r\n",
        "Por la naturaleza del problema se puede identificar que la operación más crítica es la multiplicación. Por ello quiero hacer una poda sobre la multiplicación, ya que segun es critica para establecer cotas superiores e inferiores. Además, me doy cuenta que al tratarse de numeros enteros la división esta muy limitada, y exploro la posibilidad aprovechar este hecho para reducir los grados de libertad."
      ]
    },
    {
      "cell_type": "markdown",
      "metadata": {
        "id": "HKyZY8D1wnZX"
      },
      "source": [
        "Compruebo que con el algoritmo de fuerza bruta puedo calcular todos los numeros entre -69 y 77 (ambos incluidos). Si divido siempre por 1 puedo también calcular todos los numeros menos el -69,-68 y 72 (puedo almacenar su solución en memoria y simplificar el problema)."
      ]
    },
    {
      "cell_type": "code",
      "metadata": {
        "colab": {
          "base_uri": "https://localhost:8080/"
        },
        "id": "fjj6__InuG-O",
        "outputId": "f1d70dfe-7053-4875-812a-1778b0310ef4"
      },
      "source": [
        "#Creo una función para comprobar los resultados cuando fijo la division en dividir entre 1\r\n",
        "def fuerzabrutaDIV1(objetivo):\r\n",
        "  best_sol_err = 10e10\r\n",
        "  best_num = [0,0,0,0]\r\n",
        "  best_op = []\r\n",
        "  num_pos = {x for x in range(2,10)}\r\n",
        "  op_pos = {'*','+','-'}\r\n",
        "  for a in num_pos:\r\n",
        "    for b in list(num_pos-{a}):\r\n",
        "      for c in list(num_pos-{a,b}):\r\n",
        "        for d in list(num_pos-{a,b,c}):\r\n",
        "          sol_numeros = [a,b,c,d,1]\r\n",
        "          for i in op_pos:\r\n",
        "            for j in list(op_pos-{i}):\r\n",
        "              for k in list(op_pos-{i,j}):\r\n",
        "                sol_operaciones = [i,j,k,'/']\r\n",
        "                if funcerror(objetivo,sol_numeros,sol_operaciones) < best_sol_err:\r\n",
        "                  best_num = sol_numeros\r\n",
        "                  best_op = sol_operaciones\r\n",
        "                  best_sol_err = funcerror(objetivo,sol_numeros,sol_operaciones)\r\n",
        "                  if best_sol_err == 0:\r\n",
        "                    return (best_num,best_op,best_sol_err)\r\n",
        "\r\n",
        "  return (best_num,best_op,best_sol_err)\r\n",
        "\r\n",
        "record=[]\r\n",
        "for i in range(-69,78):\r\n",
        "  num, op, sol_err = fuerzabrutaDIV1(i)\r\n",
        "  if sol_err > 0:\r\n",
        "    record.append(i)\r\n",
        "print('Los numeros entre -69 y 77 que no puedo calcular son',record)\r\n",
        "print('La solucion para el numero -69 es',fuerzabruta(-69))\r\n",
        "print('La solucion para el numero -68 es',fuerzabruta(-68))\r\n",
        "print('La solucion para el numero 72 es',fuerzabruta(72))"
      ],
      "execution_count": 38,
      "outputs": [
        {
          "output_type": "stream",
          "text": [
            "Los numeros entre -69 y 77 que no puedo calcular son [-69, -68, 72]\n",
            "La solucion para el numero -69 es ([1, 4, 2, 8, 9], ['+', '/', '-', '*'], 0.0)\n",
            "La solucion para el numero -68 es ([1, 6, 2, 8, 9], ['+', '/', '-', '*'], 0.0)\n",
            "La solucion para el numero 72 es ([2, 6, 3, 8, 9], ['-', '/', '+', '*'], 0.0)\n"
          ],
          "name": "stdout"
        }
      ]
    },
    {
      "cell_type": "code",
      "metadata": {
        "id": "m1eyM21Vkabg"
      },
      "source": [
        "#Defino las funciones para calcular la cota superior e inferior una vez realizada la multiplicación \r\n",
        "#La división la dejaré siempre fija en dividir entre 1 menos para el 72,-69,-68.\r\n",
        "def cotamin(number):\r\n",
        "  cifras = number.copy()\r\n",
        "  num_pos = list({x for x in range(1,10)} - set(cifras))\r\n",
        "  cifra_min1 = min(num_pos)\r\n",
        "  num_pos.remove(min(num_pos))\r\n",
        "\r\n",
        "  cota_min= min(cifras[0]*cifras[1]- max(num_pos)+ cifra_min1, cifra_min1- cifras[0]*cifras[1]+ min(num_pos))\r\n",
        "  return cota_min\r\n",
        "\r\n",
        "def cotamax(number):\r\n",
        "  cifras = number.copy()\r\n",
        "  num_pos = list({x for x in range(1,10)} - set(cifras))\r\n",
        "\r\n",
        "  cota_max = cifras[0]*cifras[1]- min(num_pos)+ max(num_pos)\r\n",
        "  return cota_max\r\n",
        "\r\n"
      ],
      "execution_count": 39,
      "outputs": []
    },
    {
      "cell_type": "code",
      "metadata": {
        "id": "aABkJp6nlKOg"
      },
      "source": [
        "#Creo la función final\r\n",
        "def podaDivFisa(objetivo):\r\n",
        "  best_sol_err = 10e10\r\n",
        "  best_num = [0,0,0,0]\r\n",
        "  best_op = []\r\n",
        "  num_pos = {x for x in range(2,10)}\r\n",
        "  op_pos = {'*','+','-'}\r\n",
        "  #Fuera de rango\r\n",
        "  if objetivo < -69 or objetivo > 77:\r\n",
        "    print('Number out of range')\r\n",
        "    return 0\r\n",
        "    #Excepciones para poder dividir siempre entre 1\r\n",
        "  elif objetivo == -69:\r\n",
        "    best_num =[1, 4, 2, 8, 9]\r\n",
        "    best_op = ['+', '/', '-', '*']\r\n",
        "    best_sol_err = 0\r\n",
        "    return (best_num,best_op,best_sol_err)\r\n",
        "\r\n",
        "  elif objetivo == -68:\r\n",
        "    best_num =[1, 6, 2, 8, 9]\r\n",
        "    best_op = ['+', '/', '-', '*']\r\n",
        "    best_sol_err = 0\r\n",
        "    return (best_num,best_op,best_sol_err)\r\n",
        "  \r\n",
        "  elif objetivo == 72:\r\n",
        "    best_num =[2, 6, 3, 8, 9]\r\n",
        "    best_op = ['-', '/', '+', '*']\r\n",
        "    best_sol_err = 0\r\n",
        "    return (best_num,best_op,best_sol_err) \r\n",
        "\r\n",
        "  for a in num_pos:\r\n",
        "    for b in list(num_pos-{a}):\r\n",
        "      if cotamin([a,b]) < objetivo < cotamax([a,b]):\r\n",
        "        #print('A',a,'B',b)\r\n",
        "        for c in list(num_pos-{a,b}):\r\n",
        "          for d in list(num_pos-{a,b,c}):\r\n",
        "            sol_numeros = [d,b,a,c,1]\r\n",
        "            for i in op_pos:\r\n",
        "              for j in list(op_pos-{i}):\r\n",
        "                for k in list(op_pos-{i,j}):\r\n",
        "                  sol_operaciones = [i,j,k,'/']\r\n",
        "                  if funcerror(objetivo,sol_numeros,sol_operaciones) < best_sol_err:\r\n",
        "                    best_num = sol_numeros\r\n",
        "                    best_op = sol_operaciones\r\n",
        "                    best_sol_err = funcerror(objetivo,sol_numeros,sol_operaciones)\r\n",
        "                    if best_sol_err == 0:\r\n",
        "                      return (best_num,best_op,best_sol_err)\r\n",
        "\r\n",
        "  return (best_num,best_op,best_sol_err)\r\n",
        "\r\n",
        "record=[]\r\n",
        "for i in range(-69,78):\r\n",
        "  num, op, sol_err = podaDivFisa(i)\r\n",
        "  #print('Solucion',num,'Objetivo',i)\r\n",
        "  if sol_err > 0:\r\n",
        "    record.append(i)\r\n",
        "print('Los numeros entre -69 y 77 que no puedo calcular son',record)\r\n"
      ],
      "execution_count": null,
      "outputs": []
    },
    {
      "cell_type": "markdown",
      "metadata": {
        "id": "eGDB4K6uk1iN"
      },
      "source": [
        "### Calcula la complejidad del algoritmo.(*)</br>\r\n",
        "***Respuesta***</br></br>\r\n",
        "Gracias al algoritmo de ramificación y poda hemos reducido enormemente la permutación sobre las dos cifras circundantes a la multiplicación. Estas dos cifras de multiplicación en la practica se ve quedan fijas gracias al sistema de ramificación y poda (en los print se ve que llega prácticamente siempre a la solución con la primera pareja multiplicadora que pasa la poda). Esto nos reduce en 2 las cifras que permutan en el resto de elecciones y se une al hecho de la división fija que nos deja una opción menos en las operaciones y cifras(división y cifra 1 fijas). Resumiendo lo anterior, ahora tenemos que elegir 3 cifras de entre 6 opciones y 3 operaciones entre 3 opciones.</br></br>\r\n",
        "\r\n",
        "La elección de las cifras que se multiplican se hace mediante un bucle anidado que tiene una complejidad $\\ k*(k-1) $ (k = 8 cifras disponibles) que se puede considerar despreciable. Como antes, Asumamos que el numero de operaciones y cifras puede variar, para obtener de esta manera una complejidad que depende del tamaño de la solución. </br></br>\r\n",
        "\r\n",
        "$\\ Nº operaciones  = n $</br> \r\n",
        "$\\ Nº cifras = n + 1 $</br>\r\n",
        "$\\ Complejidad = \\frac{6!}{(6 - n -1 + 2)!} * \\frac{3!}{(3-n +1)!} = 720    $</br>\r\n",
        "$\\ Complejidad : O((n!)^2)$</br></br>\r\n",
        "$\\ Complejidad_{n=4}^{Before} = \\frac{9!}{4!} * 4!= 362.880 $ (nuestro caso) </br></br>\r\n",
        "$\\ Complejidad_{n=4}^{Current} = \\frac{6!}{3!} * 3! = 720  $ </br></br>\r\n",
        "\r\n",
        "La complejidad sigue siendo factorial cuadrática pero se ha reducido enormemente"
      ]
    },
    {
      "cell_type": "code",
      "metadata": {
        "id": "nREzhkStlCq8"
      },
      "source": [
        ""
      ],
      "execution_count": 40,
      "outputs": []
    },
    {
      "cell_type": "markdown",
      "metadata": {
        "id": "3M6QjTsSkmYe"
      },
      "source": [
        "Según el problema (y tenga sentido), diseña un juego de datos de entrada aleatorios"
      ]
    },
    {
      "cell_type": "markdown",
      "metadata": {
        "id": "Jc3_OlyNkvjZ"
      },
      "source": [
        "***Respuesta***</br></br>\r\n",
        "No tiene sentido\r\n"
      ]
    },
    {
      "cell_type": "code",
      "metadata": {
        "id": "sJ-N2etjkyWc"
      },
      "source": [
        ""
      ],
      "execution_count": 40,
      "outputs": []
    },
    {
      "cell_type": "markdown",
      "metadata": {
        "id": "zy5ZROmjlGo1"
      },
      "source": [
        "Aplica el algoritmo al juego de datos generado"
      ]
    },
    {
      "cell_type": "markdown",
      "metadata": {
        "id": "_Cmj-PVylMsa"
      },
      "source": [
        "***Respuesta***</br></br>\r\n",
        "No tiene sentido"
      ]
    },
    {
      "cell_type": "code",
      "metadata": {
        "id": "Jkx8GeiYlUz1"
      },
      "source": [
        ""
      ],
      "execution_count": 40,
      "outputs": []
    },
    {
      "cell_type": "markdown",
      "metadata": {
        "id": "eTFWUJQrtGcv"
      },
      "source": [
        "Enumera las referencias que has utilizado(si ha sido necesario) para llevar a cabo el trabajo"
      ]
    },
    {
      "cell_type": "markdown",
      "metadata": {
        "id": "YKQ_mRBttWsP"
      },
      "source": [
        "***Respuesta***</br></br>\r\n",
        "\r\n",
        "He udtilizado las diapositivas y prácticas de clase."
      ]
    },
    {
      "cell_type": "markdown",
      "metadata": {
        "id": "kAkDPUyRtYyH"
      },
      "source": [
        "Describe brevemente las lineas de como crees que es posible avanzar en el estudio del problema. Ten en cuenta incluso posibles variaciones del problema y/o variaciones al alza del tamaño"
      ]
    },
    {
      "cell_type": "markdown",
      "metadata": {
        "id": "IE0uZmo-tZu-"
      },
      "source": [
        "Respuesta"
      ]
    }
  ]
}